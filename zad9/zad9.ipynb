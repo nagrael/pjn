{
 "cells": [
  {
   "cell_type": "code",
   "execution_count": 66,
   "metadata": {},
   "outputs": [],
   "source": [
    "from gensim.models.word2vec import *\n",
    "from gensim.utils import SaveLoad\n",
    "from pprint import pprint\n",
    "from sklearn.manifold import TSNE\n",
    "import matplotlib.pyplot as plt\n",
    "to_print =['Sąd Najwyższy', 'Trybunał Konstytucyjny', 'kodeks cywilny', 'kpk', 'sąd rejonowy', 'szkoda', 'wypadek', 'kolizja', 'szkoda majątkowa', 'nieszczęście', 'rozwód']\n",
    "processe_to_print = [\"_\".join(x.lower().split()) for x in to_print if len(x.split())>1]"
   ]
  },
  {
   "cell_type": "code",
   "execution_count": 2,
   "metadata": {},
   "outputs": [],
   "source": [
    "word = Word2Vec.load(\"counted_model\")"
   ]
  },
  {
   "cell_type": "code",
   "execution_count": 69,
   "metadata": {},
   "outputs": [],
   "source": [
    "def pretty_print(to_print, l=3):\n",
    "    print(to_print)\n",
    "    print(\"\\n\".join(map(lambda t: f\"\\t{t[0]} : {t[1]}\",word.wv.most_similar(positive=to_print.lower().split())[:l])))"
   ]
  },
  {
   "cell_type": "code",
   "execution_count": 70,
   "metadata": {},
   "outputs": [
    {
     "name": "stdout",
     "output_type": "stream",
     "text": [
      "Sąd Najwyższy\n",
      "\tsąd_orzekający : 0.7433018684387207\n",
      "\tsąd_ad_quem : 0.7198173999786377\n",
      "\tsąd_a_quo : 0.7081146240234375\n",
      "Trybunał Konstytucyjny\n",
      "\ttrybunał_konstytucyjny : 0.8106153607368469\n",
      "\tsąd_pytający : 0.7542603015899658\n",
      "\tpytający_sąd : 0.7343661785125732\n",
      "kodeks cywilny\n",
      "\twa : 0.6284922361373901\n",
      "\tkarny : 0.6280282139778137\n",
      "\tlexisnexis : 0.620633602142334\n",
      "kpk\n",
      "\tpkt_kpk : 0.8205952644348145\n",
      "\tart_kpw : 0.6521388292312622\n",
      "\tkpw : 0.6272209286689758\n",
      "sąd rejonowy\n",
      "\tsąd_rejonowy : 0.7876675128936768\n",
      "\tsad_rejonowy : 0.7730137705802917\n",
      "\tsąd_meriti : 0.7658076286315918\n",
      "szkoda\n",
      "\tszkoda_ta : 0.7591339349746704\n",
      "\tszkoda_majątkowa : 0.7117334604263306\n",
      "\tpowstała_szkoda : 0.7050179243087769\n",
      "wypadek\n",
      "\tprzedmiotowy_wypadek : 0.5889893770217896\n",
      "\twypadek_komunikacyjny : 0.5526050329208374\n",
      "\tprzypadek : 0.5217757821083069\n",
      "kolizja\n",
      "\tusterka : 0.7204526662826538\n",
      "\tawaria : 0.6963409781455994\n",
      "\twyrwa : 0.6861501932144165\n",
      "szkoda majątkowa\n",
      "\tkrzywda : 0.7620128393173218\n",
      "\tszkoda_majątkowa : 0.7000006437301636\n",
      "\tewentualna_szkoda : 0.6830764412879944\n",
      "nieszczęście\n",
      "\tprzeżywały : 0.6590772271156311\n",
      "\tprzykre_wspomnienia : 0.6462275385856628\n",
      "\tpoczucie_pokrzywdzenia : 0.6284066438674927\n",
      "rozwód\n",
      "\trozwiązanie_małżeństwa : 0.736102819442749\n",
      "\tseparację : 0.6677875518798828\n",
      "\tustanowienie_rozdzielności_majątkowej : 0.6649845838546753\n"
     ]
    }
   ],
   "source": [
    "for p in to_print:\n",
    "    pretty_print(p)"
   ]
  },
  {
   "cell_type": "code",
   "execution_count": 71,
   "metadata": {},
   "outputs": [
    {
     "name": "stdout",
     "output_type": "stream",
     "text": [
      "sąd_najwyższy\n",
      "\tsad_najwyższy : 0.7765038013458252\n",
      "\tsn : 0.7689255475997925\n",
      "\ttrybunał_konstytucyjny : 0.7193370461463928\n",
      "trybunał_konstytucyjny\n",
      "\ttrybunał : 0.9088258147239685\n",
      "\tpytający_sąd : 0.782455563545227\n",
      "\tsąd_pytający : 0.768673300743103\n",
      "kodeks_cywilny\n",
      "\tkodeks_pracy : 0.6537402868270874\n",
      "\tcytowany_przepis : 0.6431480646133423\n",
      "\tkodeks_karny : 0.6332970857620239\n",
      "sąd_rejonowy\n",
      "\tsąd_pierwszej_instancji : 0.8381433486938477\n",
      "\tsad_rejonowy : 0.8361362218856812\n",
      "\tsąd_okręgowy : 0.8233295679092407\n",
      "szkoda_majątkowa\n",
      "\tkrzywda : 0.7167894840240479\n",
      "\tszkoda : 0.711733341217041\n",
      "\tszkoda_niemajątkowa : 0.71006840467453\n"
     ]
    }
   ],
   "source": [
    "for p in processe_to_print:\n",
    "    pretty_print(p)"
   ]
  },
  {
   "cell_type": "code",
   "execution_count": 5,
   "metadata": {},
   "outputs": [
    {
     "name": "stdout",
     "output_type": "stream",
     "text": [
      "Sąd Najwyższy - kpc + konstytucja:\n",
      "\ttrybunał_konstytucyjny : 0.6142559051513672\n",
      "\ttrybunał : 0.6009151339530945\n",
      "\tustrojodawca : 0.5717594623565674\n",
      "\teuropejski_trybunał_praw_człowieka : 0.560878574848175\n",
      "\ttrybunał_sprawiedliwości : 0.5502802729606628\n"
     ]
    }
   ],
   "source": [
    "\n",
    "#     Sąd Najwyższy - kpc + konstytucja\n",
    "#     pasażer - mężczyzna + kobieta\n",
    "#     samochód - droga + rzeka\n",
    "print(\"Sąd Najwyższy - kpc + konstytucja:\")\n",
    "print(\"\\n\".join(map(lambda t: f\"\\t{t[0]} : {t[1]}\", word.wv.most_similar(positive=[\"sąd_najwyższy\", \"konstytucja\"], negative=[\"kpc\"])[:5])))\n"
   ]
  },
  {
   "cell_type": "code",
   "execution_count": 6,
   "metadata": {},
   "outputs": [
    {
     "name": "stdout",
     "output_type": "stream",
     "text": [
      "pasażer - mężczyzna + kobieta:\n",
      "\tpasażerka : 0.7433172464370728\n",
      "\tkierująca : 0.7384593486785889\n",
      "\tkierująca_samochodem : 0.7011879682540894\n",
      "\tpiesza : 0.6972338557243347\n",
      "\tkierująca_pojazdem : 0.6786251068115234\n"
     ]
    }
   ],
   "source": [
    "print(\"pasażer - mężczyzna + kobieta:\")\n",
    "print(\"\\n\".join(map(lambda t: f\"\\t{t[0]} : {t[1]}\", word.wv.most_similar(positive=[\"pasażer\", \"kobieta\"], negative=[\"mężczyzna\"])[:5])))\n"
   ]
  },
  {
   "cell_type": "code",
   "execution_count": 7,
   "metadata": {},
   "outputs": [
    {
     "name": "stdout",
     "output_type": "stream",
     "text": [
      "samochód - droga + rzeka:\n",
      "\tsamochód_marki : 0.5868735313415527\n",
      "\tnetbook : 0.5804151892662048\n",
      "\tskuter : 0.5689821243286133\n",
      "\tpoprosił_go_aby : 0.5556503534317017\n",
      "\tmotocykl : 0.5548390746116638\n"
     ]
    }
   ],
   "source": [
    "print(\"samochód - droga + rzeka:\")\n",
    "print(\"\\n\".join(map(lambda t: f\"\\t{t[0]} : {t[1]}\", word.wv.most_similar(positive=[\"samochód\", \"rzeka\"], negative=[\"droga\"])[:5])))\n"
   ]
  },
  {
   "cell_type": "code",
   "execution_count": 11,
   "metadata": {},
   "outputs": [],
   "source": [
    "word_to_plt = ['szkoda', 'strata', 'uszczerbek', 'szkoda majątkowa', 'uszczerbek na zdrowiu', 'krzywda', 'niesprawiedliwość', 'nieszczęście']\n",
    "processed_words = [x.split() for x in word_to_plt]"
   ]
  },
  {
   "cell_type": "code",
   "execution_count": 25,
   "metadata": {},
   "outputs": [
    {
     "data": {
      "text/plain": [
       "[['szkoda'],\n",
       " ['strata'],\n",
       " ['uszczerbek'],\n",
       " ['szkoda_majątkowa'],\n",
       " ['uszczerbek', 'na', 'zdrowiu'],\n",
       " ['krzywda'],\n",
       " ['niesprawiedliwość'],\n",
       " ['nieszczęście']]"
      ]
     },
     "execution_count": 25,
     "metadata": {},
     "output_type": "execute_result"
    }
   ],
   "source": [
    "bigram = SaveLoad.load(\"bigram\")\n",
    "trigram = SaveLoad.load(\"trigram\")\n",
    "list(trigram[bigram[processed_words]])"
   ]
  },
  {
   "cell_type": "code",
   "execution_count": 61,
   "metadata": {},
   "outputs": [],
   "source": [
    "to_plot = [word.wv[t][0] for t in trigram[bigram[processed_words]] if len(t) == 1]\n",
    "labels = [t[0] for t in trigram[bigram[processed_words]] if len(t) == 1]"
   ]
  },
  {
   "cell_type": "code",
   "execution_count": 62,
   "metadata": {
    "scrolled": false
   },
   "outputs": [],
   "source": [
    "X_embedded = TSNE().fit_transform(to_plot)"
   ]
  },
  {
   "cell_type": "code",
   "execution_count": 63,
   "metadata": {},
   "outputs": [
    {
     "data": {
      "image/png": "[encoded data removed]",
      "text/plain": [
       "<matplotlib.figure.Figure at 0x7f5ff8850f60>"
      ]
     },
     "metadata": {},
     "output_type": "display_data"
    }
   ],
   "source": [
    "fig, ax = plt.subplots()\n",
    "ax.scatter(X_embedded[:,1], X_embedded[:,0])\n",
    "\n",
    "for i, txt in enumerate(labels):\n",
    "    ax.annotate(txt, (X_embedded[:,1][i],X_embedded[:,0][i]))\n",
    "plt.show()"
   ]
  }
 ],
 "metadata": {
  "kernelspec": {
   "display_name": "Python 3",
   "language": "python",
   "name": "python3"
  },
  "language_info": {
   "codemirror_mode": {
    "name": "ipython",
    "version": 3
   },
   "file_extension": ".py",
   "mimetype": "text/x-python",
   "name": "python",
   "nbconvert_exporter": "python",
   "pygments_lexer": "ipython3",
   "version": "3.6.5"
  }
 },
 "nbformat": 4,
 "nbformat_minor": 2
}
