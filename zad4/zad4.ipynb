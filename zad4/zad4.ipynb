{
 "cells": [
  {
   "cell_type": "code",
   "execution_count": 1,
   "metadata": {},
   "outputs": [],
   "source": [
    "import json\n",
    "import pickle\n",
    "import re\n",
    "import string\n",
    "import tarfile\n",
    "from collections import Counter, defaultdict\n",
    "from datetime import datetime\n",
    "from math import log2\n",
    "from pprint import pprint"
   ]
  },
  {
   "cell_type": "code",
   "execution_count": 2,
   "metadata": {},
   "outputs": [],
   "source": [
    "def get_next(tars):\n",
    "    index = 1\n",
    "    for tarinfo in tars:\n",
    "        if tarinfo.isreg():\n",
    "\n",
    "            if tarinfo.name.startswith('data/json/judgments'):\n",
    "                pprint(str(index) + \": \" + tarinfo.name)\n",
    "                index += 1\n",
    "                yield json.load(tars.extractfile(tarinfo))\n",
    "\n",
    "\n",
    "def given_date(date):\n",
    "    z = datetime.strptime(date, '%Y-%m-%d')\n",
    "    return z.year == 2015"
   ]
  },
  {
   "cell_type": "code",
   "execution_count": 5,
   "metadata": {},
   "outputs": [],
   "source": [
    "st = r\"\\W+\"\n",
    "res1 = r\"(<[^>]*>)\"\n",
    "res2 = r\"(-(\\n|\\r|\\r\\n|\\x0b|\\x0c|\\x1c|\\x1d|\\x1e|\\x85|\\u2028|\\u2029))\"\n",
    "res3 = r\"^[a-ząćęłńóśźż]+$\"\n",
    "res4 = r\"^[a-ząćęłńóśźż]*$\"\n",
    "com = re.compile(st, re.IGNORECASE)\n",
    "com1 = re.compile(res1, re.IGNORECASE)\n",
    "com2 = re.compile(res2, re.IGNORECASE)\n",
    "pairs1 = re.compile(res3, re.IGNORECASE)\n",
    "\n",
    "tar = tarfile.open(\"../saos-dump-23.02.2018.tar.gz\", \"r:gz\")"
   ]
  },
  {
   "cell_type": "code",
   "execution_count": 6,
   "metadata": {},
   "outputs": [],
   "source": [
    "def get_pairs(fun, itera):\n",
    "    i = filter(fun, map(lambda w: w.translate(str.maketrans(\"\", \"\", \"§\" + string.punctuation)).lower(), itera))\n",
    "    first = next(i)\n",
    "    for word in i:\n",
    "        yield (first, word)\n",
    "        first = word\n",
    "\n",
    "\n",
    "def get_one(fun, itera):\n",
    "    i = filter(fun, map(lambda w: w.translate(str.maketrans(\"\", \"\", \"§\" + string.punctuation)).lower(), itera))\n",
    "    for word in i:\n",
    "        yield word\n",
    "\n",
    "\n",
    "def give_me(fun_give):\n",
    "    for x in get_next(tar):\n",
    "        for y in x['items']:\n",
    "            try:\n",
    "                if given_date(y['judgmentDate']):\n",
    "                    words = iter(com.split(com2.sub(\"\", com1.sub(\"\", y['textContent']))))\n",
    "                    yield from fun_give(pairs1.match, words)\n",
    "            except KeyError:\n",
    "                pprint(KeyError)"
   ]
  },
  {
   "cell_type": "code",
   "execution_count": 7,
   "metadata": {
    "scrolled": true
   },
   "outputs": [],
   "source": [
    "# Saving to diskfor future\n",
    "\n",
    "# with open(\"two_words\", \"wb\") as f:\n",
    "#     two_word = Counter(give_me(get_pairs))\n",
    "#     pickle.dump(two_word, f)\n",
    "# with open(\"one_len\", \"wb\") as f:\n",
    "#     one_word = Counter(give_me(get_one))\n",
    "#     pickle.dump(one_word, f)\n",
    "\n",
    "\n",
    "# Getting saved grom disc\n",
    "with open(\"two_words\", \"rb\") as f:\n",
    "    two_word = Counter(pickle.load(f))\n",
    "with open(\"one_len\", \"rb\") as f:\n",
    "    one_word = Counter(pickle.load(f))"
   ]
  },
  {
   "cell_type": "code",
   "execution_count": 10,
   "metadata": {},
   "outputs": [],
   "source": [
    "def calculate_pmi(one_dict: Counter, two_dict: Counter):\n",
    "    two_sum = sum(two_dict.values())\n",
    "    one_sum = sum(one_dict.values())\n",
    "    for pair in two_dict:\n",
    "        a = two_dict[pair] / two_sum\n",
    "        b = (one_dict[pair[0]] / one_sum) * (one_dict[pair[1]] / one_sum)\n",
    "        yield (pair, log2(a / b))"
   ]
  },
  {
   "cell_type": "code",
   "execution_count": 9,
   "metadata": {},
   "outputs": [],
   "source": [
    "def entropy(*args):\n",
    "    tmp = sum(args)\n",
    "    return sum((k * log2(k / tmp + int(k==0)) for k in args))\n",
    "\n",
    "\n",
    "def calculate_g2(two_dict: Counter, one_dict: Counter):\n",
    "    total = sum(two_dict.values())\n",
    "    for pair in two_dict:\n",
    "        k11 = two_dict[pair]\n",
    "        k21 = one_dict[pair[0]] - k11\n",
    "        k12 = one_dict[pair[1]] - k11\n",
    "        k22 = total - k21 - k12 - k11\n",
    "        # n = k11 + k12 + k21 + k22\n",
    "        yield (pair, 2 * (entropy(k11, k12, k21, k22) - entropy(k11 + k12, k21 + k22)\n",
    "                                    - entropy(k11 + k21, k12 + k22)))"
   ]
  },
  {
   "cell_type": "code",
   "execution_count": 8,
   "metadata": {},
   "outputs": [
    {
     "data": {
      "text/plain": [
       "[(('dzwońców', 'wróbli'), 27.238054789461568),\n",
       " (('niepodoranych', 'ściernisk'), 27.238054789461568),\n",
       " (('ściernisk', 'niewykoszonych'), 27.238054789461568),\n",
       " (('resztkom', 'pożniwnym'), 27.238054789461568),\n",
       " (('csysadm', 'securitymodel'), 27.238054789461568),\n",
       " (('noindexesj', 'lang'), 27.238054789461568),\n",
       " (('offix', 'ibra'), 27.238054789461568),\n",
       " (('mokrzyńskiej', 'łukaszczuk'), 27.238054789461568),\n",
       " (('księżyc', 'ida'), 27.238054789461568),\n",
       " (('prezydenccy', 'legislatorzy'), 27.238054789461568),\n",
       " (('wagonowego', 'dźwigownika'), 27.238054789461568),\n",
       " (('biomasse', 'nachhaltigkeitsverordnung'), 27.238054789461568),\n",
       " (('matiasa', 'kryspina'), 27.238054789461568),\n",
       " (('biomassestrom', 'nachhaltigkeitverordnung'), 27.238054789461568),\n",
       " (('biokreftstoff', 'nachhaltigkeitsverodrnung'), 27.238054789461568),\n",
       " (('lrner', 'cntlr'), 27.238054789461568),\n",
       " (('qtp', 'bugzilla'), 27.238054789461568),\n",
       " (('brudnicy', 'mniszki'), 27.238054789461568),\n",
       " (('przewyż', 'szanie'), 27.238054789461568),\n",
       " (('mental', 'retardation'), 27.238054789461568),\n",
       " (('microcytowej', 'hypochromicznej'), 27.238054789461568),\n",
       " (('kozeluska', 'lieben'), 27.238054789461568),\n",
       " (('ocf', 'wyynosi'), 27.238054789461568),\n",
       " (('msiemianowicesl', 'finn'), 27.238054789461568),\n",
       " (('geospatial', 'consortium'), 27.238054789461568),\n",
       " (('opoznione', 'zamawiaiacv'), 27.238054789461568),\n",
       " (('shown', 'visibly'), 27.238054789461568),\n",
       " (('konsu', 'menckiej'), 27.238054789461568),\n",
       " (('anaboliczny', 'omnadrem'), 27.238054789461568),\n",
       " (('sabała', 'bronś'), 27.238054789461568)]"
      ]
     },
     "execution_count": 8,
     "metadata": {},
     "output_type": "execute_result"
    }
   ],
   "source": [
    "#Save to file after computing \n",
    "\n",
    "# with open(\"pmi.result\", \"wb\") as f:\n",
    "#     result_pmi = Counter(dict(calculate_pmi(one_word, two_word))) \n",
    "#     pickle.dump(result_pmi, f)\n",
    "\n",
    "#From saved file\n",
    "with open(\"pmi.result\", \"rb\") as f:\n",
    "    result_pmi = Counter(pickle.load(f)) \n",
    "result_pmi.most_common(30)"
   ]
  },
  {
   "cell_type": "code",
   "execution_count": 2,
   "metadata": {},
   "outputs": [
    {
     "data": {
      "text/plain": [
       "[(('z', 'dnia'), 5736386.5536103565),\n",
       " (('art', 'k'), 4885128.856697525),\n",
       " (('sygn', 'akt'), 3259341.7825914305),\n",
       " (('na', 'podstawie'), 3253185.8683400936),\n",
       " (('art', 'ust'), 3164934.1066213544),\n",
       " (('w', 'dniu'), 2857699.348271306),\n",
       " (('k', 'p'), 2794214.014423307),\n",
       " (('sąd', 'okręgowy'), 2689075.7413860047),\n",
       " (('p', 'c'), 2424782.0621353434),\n",
       " (('na', 'rzecz'), 2158916.0221890975),\n",
       " (('ubezpieczeń', 'społecznych'), 2152198.7170862355),\n",
       " (('sąd', 'rejonowy'), 1947503.0188561736),\n",
       " (('zgodnie', 'z'), 1942563.6789397376),\n",
       " (('pozbawienia', 'wolności'), 1777693.4506057038),\n",
       " (('w', 'sprawie'), 1740916.4168041379),\n",
       " (('kwotę', 'zł'), 1689158.956167014),\n",
       " (('dz', 'u'), 1674477.0599903688),\n",
       " (('z', 'art'), 1645395.933555342),\n",
       " (('zw', 'z'), 1562595.5519716053),\n",
       " (('k', 'c'), 1518648.6422379364),\n",
       " (('w', 'tym'), 1480513.2995926293),\n",
       " (('podstawie', 'art'), 1476633.460659851),\n",
       " (('sądu', 'najwyższego'), 1403991.993600442),\n",
       " (('sądu', 'rejonowego'), 1389707.4174451528),\n",
       " (('w', 'zw'), 1327099.0087664933),\n",
       " (('sądu', 'okręgowego'), 1301353.5693028604),\n",
       " (('związku', 'z'), 1251623.8248015102),\n",
       " (('materiału', 'dowodowego'), 1250152.5790557137),\n",
       " (('ust', 'ustawy'), 1212241.1220036373),\n",
       " (('rzeczypospolitej', 'polskiej'), 1158164.172824277)]"
      ]
     },
     "execution_count": 2,
     "metadata": {},
     "output_type": "execute_result"
    }
   ],
   "source": [
    "#Save to file after computing \n",
    "\n",
    "# with open(\"g2.result\", \"wb\") as f:\n",
    "#     result_g2 = Counter(dict(calculate_g2(two_word)))\n",
    "#     pickle.dump(result_g2, f)\n",
    "\n",
    "#From file\n",
    "with open(\"g2.result\", \"rb\") as f:\n",
    "    result_g2 = Counter(pickle.load(f)) \n",
    "result_g2.most_common(30)"
   ]
  },
  {
   "cell_type": "code",
   "execution_count": 35,
   "metadata": {},
   "outputs": [
    {
     "name": "stdout",
     "output_type": "stream",
     "text": [
      "('sygn akt 3259341.7825914305 \\n'\n",
      " 'na podstawie 3253185.8683400936 \\n'\n",
      " 'art ust 3164934.1066213544 \\n'\n",
      " 'sąd okręgowy 2689075.7413860047 \\n'\n",
      " 'na rzecz 2158916.0221890975 \\n'\n",
      " 'ubezpieczeń społecznych 2152198.7170862355 \\n'\n",
      " 'sąd rejonowy 1947503.0188561736 \\n'\n",
      " 'pozbawienia wolności 1777693.4506057038 \\n'\n",
      " 'kwotę zł 1689158.956167014 \\n'\n",
      " 'podstawie art 1476633.460659851 \\n'\n",
      " 'sądu najwyższego 1403991.993600442 \\n'\n",
      " 'sądu rejonowego 1389707.4174451528 \\n'\n",
      " 'sądu okręgowego 1301353.5693028604 \\n'\n",
      " 'materiału dowodowego 1250152.5790557137 \\n'\n",
      " 'ust ustawy 1212241.1220036373 \\n'\n",
      " 'rzeczypospolitej polskiej 1158164.172824277 \\n'\n",
      " 'nr poz 1132052.2957682116 \\n'\n",
      " 'skarbu państwa 1125151.5306956181 \\n'\n",
      " 'art kk 1083183.3534579908 \\n'\n",
      " 'organ rentowy 1060304.5778583575 \\n'\n",
      " 'ocenie sądu 1056265.3140831762 \\n'\n",
      " 'niniejszej sprawie 1052486.6372797196 \\n'\n",
      " 'tym samym 1051294.2378502362 \\n'\n",
      " 'co do 998364.6733399269 \\n'\n",
      " 'kwoty zł 980790.8143469584 \\n'\n",
      " 'od dnia 979244.6362658457 \\n'\n",
      " 'zastępstwa procesowego 944274.9296382889 \\n'\n",
      " 'przede wszystkim 943961.9555298119 \\n'\n",
      " 'sąd apelacyjny 938086.48429298 \\n'\n",
      " 'ust pkt 931279.0852791927 \\n'\n",
      " 'imieniu rzeczypospolitej 930855.3693371398 \\n'\n",
      " 'pierwszej instancji 909073.1608956114 \\n')\n"
     ]
    }
   ],
   "source": [
    "pprint(''.join(map(lambda y: \"{} {} {} \\n\".format(y[0][0], y[0][1], y[1] ),\n",
    "           filter(lambda x: len(x[0][0]) > 1 and len(x[0][1]) > 1,result_g2.most_common(50)))))"
   ]
  },
  {
   "cell_type": "code",
   "execution_count": null,
   "metadata": {},
   "outputs": [],
   "source": []
  }
 ],
 "metadata": {
  "kernelspec": {
   "display_name": "Python 3",
   "language": "python",
   "name": "python3"
  },
  "language_info": {
   "codemirror_mode": {
    "name": "ipython",
    "version": 3
   },
   "file_extension": ".py",
   "mimetype": "text/x-python",
   "name": "python",
   "nbconvert_exporter": "python",
   "pygments_lexer": "ipython3",
   "version": "3.6.4"
  }
 },
 "nbformat": 4,
 "nbformat_minor": 2
}
