{
 "cells": [
  {
   "cell_type": "code",
   "execution_count": 1,
   "metadata": {},
   "outputs": [],
   "source": [
    "import json\n",
    "import pickle\n",
    "import re\n",
    "import string\n",
    "import tarfile\n",
    "from collections import Counter, defaultdict\n",
    "from datetime import datetime\n",
    "from math import log2\n",
    "from pprint import pprint"
   ]
  },
  {
   "cell_type": "code",
   "execution_count": 2,
   "metadata": {},
   "outputs": [],
   "source": [
    "def get_next(tars):\n",
    "    index = 1\n",
    "    for tarinfo in tars:\n",
    "        if tarinfo.isreg():\n",
    "\n",
    "            if tarinfo.name.startswith('data/json/judgments'):\n",
    "                pprint(str(index) + \": \" + tarinfo.name)\n",
    "                index += 1\n",
    "                yield json.load(tars.extractfile(tarinfo))\n",
    "\n",
    "\n",
    "def given_date(date):\n",
    "    z = datetime.strptime(date, '%Y-%m-%d')\n",
    "    return z.year == 2015"
   ]
  },
  {
   "cell_type": "code",
   "execution_count": 3,
   "metadata": {},
   "outputs": [],
   "source": [
    "st = r\"\\W+\"\n",
    "res1 = r\"(<[^>]*>)\"\n",
    "res2 = r\"(-(\\n|\\r|\\r\\n|\\x0b|\\x0c|\\x1c|\\x1d|\\x1e|\\x85|\\u2028|\\u2029))\"\n",
    "res3 = r\"^[a-ząćęłńóśźż]+$\"\n",
    "res4 = r\"^[a-ząćęłńóśźż]*$\"\n",
    "com = re.compile(st, re.IGNORECASE)\n",
    "com1 = re.compile(res1, re.IGNORECASE)\n",
    "com2 = re.compile(res2, re.IGNORECASE)\n",
    "pairs1 = re.compile(res3, re.IGNORECASE)\n",
    "\n",
    "tar = tarfile.open(\"../saos-dump-23.02.2018.tar.gz\", \"r:gz\")"
   ]
  },
  {
   "cell_type": "code",
   "execution_count": 4,
   "metadata": {},
   "outputs": [],
   "source": [
    "def get_pairs(fun, itera):\n",
    "    i = filter(lambda y: fun(y),\n",
    "               map(lambda w: w.translate(str.maketrans(\"\", \"\", \"§\" + string.punctuation)).lower(),\n",
    "                   itera))\n",
    "    first = next(i)\n",
    "    for word in i:\n",
    "        yield (first, word)\n",
    "        first = word\n",
    "\n",
    "\n",
    "def get_one(fun, itera):\n",
    "    i = filter(lambda y: fun(y),\n",
    "               map(lambda w: w.translate(str.maketrans(\"\", \"\", \"§\" + string.punctuation)).lower(),\n",
    "                   itera))\n",
    "    for word in i:\n",
    "        yield word\n",
    "\n",
    "\n",
    "def give_me(fun_give):\n",
    "    for x in get_next(tar):\n",
    "        for y in x['items']:\n",
    "            try:\n",
    "                if given_date(y['judgmentDate']):\n",
    "                    words = iter(com.split(com2.sub(\"\", com1.sub(\"\", y['textContent']))))\n",
    "                    yield from fun_give(pairs1.match, words)\n",
    "            except KeyError:\n",
    "                pprint(KeyError)"
   ]
  },
  {
   "cell_type": "code",
   "execution_count": 5,
   "metadata": {
    "scrolled": true
   },
   "outputs": [],
   "source": [
    "# with open(\"two_words\", \"wb\") as f:\n",
    "#     two_word = Counter(give_me(get_pairs))\n",
    "#     pickle.dump(two_word, f)\n",
    "with open(\"two_words\", \"rb\") as f:\n",
    "    two_word = Counter(pickle.load(f))\n",
    "    \n",
    "# with open(\"one_len\", \"wb\") as f:\n",
    "#     one_word = Counter(give_me(get_one))\n",
    "#     pickle.dump(one_word, f)\n",
    "with open(\"one_len\", \"rb\") as f:\n",
    "    one_word = Counter(pickle.load(f))"
   ]
  },
  {
   "cell_type": "code",
   "execution_count": 10,
   "metadata": {},
   "outputs": [],
   "source": [
    "def calculate_pmi(one_dict: Counter, two_dict: Counter):\n",
    "    two_sum = sum(two_dict.values())\n",
    "    one_sum = sum(one_dict.values())\n",
    "    for pair in two_dict:\n",
    "        a = two_dict[pair] / two_sum\n",
    "        b = (one_dict[pair[0]] / one_sum) * (one_dict[pair[1]] / one_sum)\n",
    "        yield (pair, log2(a / b))"
   ]
  },
  {
   "cell_type": "code",
   "execution_count": 9,
   "metadata": {},
   "outputs": [],
   "source": [
    "def entropy(*args):\n",
    "    tmp = sum(args)\n",
    "    return sum((k * log2(k / tmp + int(k==0)) for k in args))\n",
    "\n",
    "\n",
    "def calculate_g2(two_dict: Counter):\n",
    "    total = sum(two_dict.values())\n",
    "    table = defaultdict(lambda: Counter())\n",
    "    table_reverse = defaultdict(lambda: Counter())\n",
    "    for pair in two_dict:\n",
    "        table[pair[0]][pair[1]] = two_dict[pair]\n",
    "        table_reverse[pair[1]][pair[0]] = two_dict[pair]\n",
    "    for fst, sec in two_dict:\n",
    "        k11 = table[fst][sec]\n",
    "        k21 = sum(table[fst].values()) - k11\n",
    "        k12 = sum(table_reverse[sec].values()) - k11\n",
    "        k22 = total - k21 - k12 - k11\n",
    "        # n = k11 + k12 + k21 + k22\n",
    "        yield ((fst, sec), 2 * (entropy(k11, k12, k21, k22) - entropy(k11 + k12, k21 + k22)\n",
    "                                    - entropy(k11 + k21, k12 + k22)))"
   ]
  },
  {
   "cell_type": "code",
   "execution_count": 11,
   "metadata": {},
   "outputs": [
    {
     "data": {
      "text/plain": [
       "[(('dzwońców', 'wróbli'), 27.238054789461568),\n",
       " (('niepodoranych', 'ściernisk'), 27.238054789461568),\n",
       " (('ściernisk', 'niewykoszonych'), 27.238054789461568),\n",
       " (('resztkom', 'pożniwnym'), 27.238054789461568),\n",
       " (('csysadm', 'securitymodel'), 27.238054789461568),\n",
       " (('noindexesj', 'lang'), 27.238054789461568),\n",
       " (('offix', 'ibra'), 27.238054789461568),\n",
       " (('mokrzyńskiej', 'łukaszczuk'), 27.238054789461568),\n",
       " (('księżyc', 'ida'), 27.238054789461568),\n",
       " (('prezydenccy', 'legislatorzy'), 27.238054789461568)]"
      ]
     },
     "execution_count": 11,
     "metadata": {},
     "output_type": "execute_result"
    }
   ],
   "source": [
    "# with open(\"pmi.result\", \"wb\") as f:\n",
    "#     result_pmi = Counter(dict(calculate_pmi(one_word, two_word))) \n",
    "#     pickle.dump(result_pmi, f)\n",
    "with open(\"pmi.result\", \"rb\") as f:\n",
    "    result_pmi = Counter(pickle.load(f)) \n",
    "result_pmi.most_common(10)"
   ]
  },
  {
   "cell_type": "code",
   "execution_count": 12,
   "metadata": {},
   "outputs": [
    {
     "data": {
      "text/plain": [
       "[(('z', 'dnia'), 5736386.5536103565),\n",
       " (('art', 'k'), 4885128.856697525),\n",
       " (('sygn', 'akt'), 3259341.7825914305),\n",
       " (('na', 'podstawie'), 3253185.8683400936),\n",
       " (('art', 'ust'), 3164934.1066213544),\n",
       " (('w', 'dniu'), 2857699.348271306),\n",
       " (('k', 'p'), 2794214.014423307),\n",
       " (('sąd', 'okręgowy'), 2689075.7413860047),\n",
       " (('p', 'c'), 2424782.0621353434),\n",
       " (('na', 'rzecz'), 2158916.0221890975)]"
      ]
     },
     "execution_count": 12,
     "metadata": {},
     "output_type": "execute_result"
    }
   ],
   "source": [
    "# with open(\"g2.result\", \"wb\") as f:\n",
    "#     result_g2 = Counter(dict(calculate_g2(two_word)))\n",
    "#     pickle.dump(result_g2, f)\n",
    "with open(\"g2.result\", \"rb\") as f:\n",
    "    result_g2 = Counter(pickle.load(f)) \n",
    "result_g2.most_common(10)"
   ]
  },
  {
   "cell_type": "code",
   "execution_count": null,
   "metadata": {},
   "outputs": [],
   "source": []
  }
 ],
 "metadata": {
  "kernelspec": {
   "display_name": "Python 3",
   "language": "python",
   "name": "python3"
  },
  "language_info": {
   "codemirror_mode": {
    "name": "ipython",
    "version": 3
   },
   "file_extension": ".py",
   "mimetype": "text/x-python",
   "name": "python",
   "nbconvert_exporter": "python",
   "pygments_lexer": "ipython3",
   "version": "3.6.4"
  }
 },
 "nbformat": 4,
 "nbformat_minor": 2
}
