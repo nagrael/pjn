{
 "cells": [
  {
   "cell_type": "code",
   "execution_count": 1,
   "metadata": {},
   "outputs": [],
   "source": [
    "import matplotlib.pyplot as plt\n",
    "from elasticsearch import Elasticsearch\n",
    "\n",
    "es = Elasticsearch(\"localhost:9200\")"
   ]
  },
  {
   "cell_type": "code",
   "execution_count": 11,
   "metadata": {},
   "outputs": [
    {
     "name": "stdout",
     "output_type": "stream",
     "text": [
      "56078\n"
     ]
    }
   ],
   "source": [
    "print(es.count(index=\"judgment\", doc_type=\"doc\", body={\"query\":{\"match_all\": {}}})[\"count\"])"
   ]
  },
  {
   "cell_type": "code",
   "execution_count": 26,
   "metadata": {},
   "outputs": [],
   "source": [
    "result6 = (es.count(index=\"judgment\", doc_type=\"doc\", body={\"query\": {\"term\": {\"text_content\" : \"szkoda\"}}})[\"count\"])\n",
    "\n",
    "result7 = (es.count(index=\"judgment\", doc_type=\"doc\", body={\"query\": {\"match_phrase\": {\"text_content\" : \"trwały uszczerbek na zdrowiu\"}}})[\"count\"])\n",
    "\n",
    "result8 = (es.count(index=\"judgment\", doc_type=\"doc\", body={\"query\": {\"match_phrase\": {\"text_content\" : {\"query\": \"trwały uszczerbek na zdrowiu\", \"slop\" : 2}}}})[\"count\"])\n",
    "\n",
    "result9 = es.search(index=\"judgment\", doc_type=\"doc\", body={\"size\": 0, \"aggs\" : {\"judges\" : {\"terms\" : {\"field\" : \"judges\",\"size\": 3}}}})"
   ]
  },
  {
   "cell_type": "code",
   "execution_count": 63,
   "metadata": {},
   "outputs": [
    {
     "name": "stdout",
     "output_type": "stream",
     "text": [
      "Szoda - count: 17926\n",
      "Trwały uszczerbek na zdrowiu - count: 1499\n",
      "Trwały uszczerbek na zdrowiu with slop 2 - count: 1602\n",
      "Judges:\tRoman Troll : 375\n",
      "\tKatarzyna Antoniak : 346\n",
      "\tLeszek Dąbek : 318\n"
     ]
    }
   ],
   "source": [
    "print(f\"Szoda - count: {result6}\")\n",
    "print(f\"Trwały uszczerbek na zdrowiu - count: {result7}\")\n",
    "print(f\"Trwały uszczerbek na zdrowiu with slop 2 - count: {result8}\")\n",
    "print(\"Judges:\"+\"\\n\".join(map(lambda x: f\"\\t{x['key']} : {x['doc_count']}\",result9[\"aggregations\"][\"judges\"][\"buckets\"])))"
   ]
  },
  {
   "cell_type": "code",
   "execution_count": 57,
   "metadata": {},
   "outputs": [
    {
     "data": {
      "image/png": "[encoded data removed]",
      "text/plain": [
       "<matplotlib.figure.Figure at 0x7fa68a1c8550>"
      ]
     },
     "metadata": {},
     "output_type": "display_data"
    }
   ],
   "source": [
    "result10 = es.search(index=\"judgment\", doc_type=\"doc\", body={\"size\":0,\"aggs\" : {\"judgments_per_month\" : {\"date_histogram\" : {\"field\" : \"date\",\"interval\" : \"month\"}}}})\n",
    "months = []\n",
    "counts = []\n",
    "for a in result10[\"aggregations\"][\"judgments_per_month\"][\"buckets\"]:\n",
    "    months.append(int(a[\"key_as_string\"][5:7]))\n",
    "    counts.append(a[\"doc_count\"])\n",
    "\n",
    "\n",
    "plt.figure(figsize=(16, 7))\n",
    "plt.bar(months,counts)\n",
    "plt.xlabel(\"Months\")\n",
    "plt.ylabel(\"Counts\")\n",
    "plt.grid(True)\n",
    "plt.show()"
   ]
  },
  {
   "cell_type": "code",
   "execution_count": 51,
   "metadata": {},
   "outputs": [
    {
     "name": "stdout",
     "output_type": "stream",
     "text": [
      "04\n"
     ]
    }
   ],
   "source": []
  },
  {
   "cell_type": "code",
   "execution_count": null,
   "metadata": {},
   "outputs": [],
   "source": []
  }
 ],
 "metadata": {
  "kernelspec": {
   "display_name": "Python 3",
   "language": "python",
   "name": "python3"
  },
  "language_info": {
   "codemirror_mode": {
    "name": "ipython",
    "version": 3
   },
   "file_extension": ".py",
   "mimetype": "text/x-python",
   "name": "python",
   "nbconvert_exporter": "python",
   "pygments_lexer": "ipython3",
   "version": "3.6.5"
  }
 },
 "nbformat": 4,
 "nbformat_minor": 2
}
