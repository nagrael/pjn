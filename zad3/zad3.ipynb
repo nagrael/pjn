{
 "cells": [
  {
   "cell_type": "code",
   "execution_count": 58,
   "metadata": {},
   "outputs": [],
   "source": [
    "import json\n",
    "import random\n",
    "import tarfile\n",
    "from collections import Counter\n",
    "from datetime import datetime\n",
    "import re\n",
    "import pickle\n",
    "from matplotlib import pyplot as plt\n",
    "from pprint import pprint\n",
    "from zipfile import ZipFile\n",
    "import string"
   ]
  },
  {
   "cell_type": "code",
   "execution_count": 59,
   "metadata": {},
   "outputs": [],
   "source": [
    "def get_next(tar):\n",
    "    for tarinfo in tar:\n",
    "        if tarinfo.isreg():\n",
    "            yield json.load(tar.extractfile(tarinfo))"
   ]
  },
  {
   "cell_type": "code",
   "execution_count": 60,
   "metadata": {},
   "outputs": [],
   "source": [
    "def given_date(date):\n",
    "    z = datetime.strptime(date, '%Y-%m-%d')\n",
    "    return z.year == 2015"
   ]
  },
  {
   "cell_type": "code",
   "execution_count": 61,
   "metadata": {},
   "outputs": [],
   "source": [
    "st = r\"\\W+\"\n",
    "res1 = r\"(<[^>]*>)\"\n",
    "res2 = r\"(-(\\n|\\r|\\r\\n|\\x0b|\\x0c|\\x1c|\\x1d|\\x1e|\\x85|\\u2028|\\u2029))\"\n",
    "res3 = r\"^[a-ząćęłńóśźż]+$\"\n",
    "com = re.compile(st, re.IGNORECASE)\n",
    "com1 = re.compile(res1, re.IGNORECASE)\n",
    "com2 = re.compile(res2, re.IGNORECASE)\n",
    "com3 = re.compile(res3, re.IGNORECASE)"
   ]
  },
  {
   "cell_type": "markdown",
   "metadata": {},
   "source": [
    "Used only once than saved by pickle to countFile file:"
   ]
  },
  {
   "cell_type": "code",
   "execution_count": 62,
   "metadata": {
    "scrolled": true
   },
   "outputs": [
    {
     "name": "stdout",
     "output_type": "stream",
     "text": [
      "[('na', 2824896),\n",
      " ('do', 2321623),\n",
      " ('nie', 2010295),\n",
      " ('że', 1552500),\n",
      " ('art', 1365815),\n",
      " ('się', 1208438),\n",
      " ('przez', 1170894),\n",
      " ('dnia', 1089303),\n",
      " ('od', 1021377),\n",
      " ('sąd', 963906),\n",
      " ('jest', 772094),\n",
      " ('za', 752334),\n",
      " ('oraz', 686839),\n",
      " ('zł', 629130),\n",
      " ('tym', 575726),\n",
      " ('to', 566799),\n",
      " ('roku', 551938),\n",
      " ('sądu', 490046),\n",
      " ('co', 480624),\n",
      " ('po', 459107),\n",
      " ('iż', 449040),\n",
      " ('sprawie', 410134),\n",
      " ('pracy', 400938),\n",
      " ('jego', 381883),\n",
      " ('umowy', 376044),\n",
      " ('dniu', 375516),\n",
      " ('nr', 374650),\n",
      " ('przy', 362853),\n",
      " ('ust', 359285),\n",
      " ('tego', 352671),\n",
      " ('powoda', 338455),\n",
      " ('postępowania', 321346),\n",
      " ('jej', 320637),\n",
      " ('jak', 318623),\n",
      " ('podstawie', 312932),\n",
      " ('dla', 311587),\n",
      " ('ustawy', 304410),\n",
      " ('lub', 294942),\n",
      " ('jako', 283147),\n",
      " ('ze', 281291),\n",
      " ('zakresie', 280825),\n",
      " ('akt', 274542),\n",
      " ('powód', 259619),\n",
      " ('wyroku', 258853),\n",
      " ('należy', 253415),\n",
      " ('pkt', 253091),\n",
      " ('pozwanego', 252214),\n",
      " ('rzecz', 248483),\n",
      " ('sprawy', 243043),\n",
      " ('także', 242985),\n",
      " ('kosztów', 242618),\n",
      " ('również', 235953),\n",
      " ('które', 234973),\n",
      " ('sposób', 230871),\n",
      " ('prawa', 227489),\n",
      " ('zgodnie', 227370),\n",
      " ('kwotę', 217701),\n",
      " ('ich', 217287),\n",
      " ('może', 208807),\n",
      " ('sygn', 207034),\n",
      " ('strony', 206175),\n",
      " ('tej', 206083),\n",
      " ('wysokości', 194751),\n",
      " ('oskarżonego', 192417),\n",
      " ('wyrok', 190659),\n",
      " ('czy', 189817),\n",
      " ('okoliczności', 189389),\n",
      " ('było', 188943),\n",
      " ('ma', 188802),\n",
      " ('był', 185259),\n",
      " ('okręgowy', 182398),\n",
      " ('instancji', 180445),\n",
      " ('ii', 180308),\n",
      " ('związku', 178902),\n",
      " ('być', 177963),\n",
      " ('kwoty', 177176),\n",
      " ('pozwany', 176605),\n",
      " ('ten', 173546),\n",
      " ('złotych', 166965),\n",
      " ('powódki', 165551),\n",
      " ('są', 162163),\n",
      " ('też', 161525),\n",
      " ('bowiem', 161195),\n",
      " ('nieruchomości', 160848),\n",
      " ('pozwanej', 160811),\n",
      " ('zatem', 159919),\n",
      " ('części', 159235),\n",
      " ('grudnia', 157919),\n",
      " ('który', 156899),\n",
      " ('tj', 156431),\n",
      " ('zw', 156379),\n",
      " ('wobec', 155634),\n",
      " ('była', 153502),\n",
      " ('powódka', 152526),\n",
      " ('tych', 151853),\n",
      " ('tytułu', 151838),\n",
      " ('przed', 151672),\n",
      " ('gdy', 150045),\n",
      " ('wynika', 149022),\n",
      " ('pod', 146604)]\n"
     ]
    }
   ],
   "source": [
    "tar = tarfile.open(\"../saos-dump-23.02.2018.tar.gz\", \"r:gz\")\n",
    "\n",
    "count = Counter()\n",
    "\n",
    "for x in get_next(tar):\n",
    "    for y in range(len(x['items'])):\n",
    "        try:\n",
    "            if given_date(x['items'][y]['judgmentDate']):\n",
    "                for w in com.split(com2.sub(\"\", com1.sub(\"\", x['items'][y]['textContent']))):\n",
    "                    word = w.translate(str.maketrans(\"\", \"\", \"§\" + string.punctuation)).lower()\n",
    "                    if len(word) > 1 and com3.match(word):\n",
    "                        count[word] += 1\n",
    "        except KeyError:\n",
    "            pass\n",
    "            # pprint(KeyError)\n",
    "pprint(count.most_common(100))\n",
    "with open(\"countFile\", \"wb\") as f:\n",
    "    pickle.dump(count, f)"
   ]
  },
  {
   "cell_type": "markdown",
   "metadata": {},
   "source": [
    "How to Write a Spelling Corrector\n",
    "\n",
    "src: https://norvig.com/spell-correct.html"
   ]
  },
  {
   "cell_type": "code",
   "execution_count": 63,
   "metadata": {},
   "outputs": [],
   "source": [
    "with open(\"countFile\", \"rb\") as f:\n",
    "    WORDS = Counter(pickle.load(f))\n",
    "    \n",
    "\n",
    "def P(word, N=sum(WORDS.values())):\n",
    "    \"Probability of `word`.\"\n",
    "    return WORDS[word] / N\n",
    "\n",
    "\n",
    "def correction(word):\n",
    "    \"Most probable spelling correction for word.\"\n",
    "    return max(candidates(word), key=P)\n",
    "\n",
    "\n",
    "def candidates(word):\n",
    "    \"Generate possible spelling corrections for word.\"\n",
    "    return known([word]) or known(edits1(word)) or known(edits2(word)) or [word]\n",
    "\n",
    "\n",
    "def known(words):\n",
    "    \"The subset of `words` that appear in the dictionary of WORDS.\"\n",
    "    return set(w for w in words if w in dic)\n",
    "\n",
    "\n",
    "def edits1(word):\n",
    "    \"All edits that are one edit away from `word`.\"\n",
    "    letters = 'abcdefghijklmnoprstuwyząćęłńóśżź'\n",
    "    splits = [(word[:i], word[i:]) for i in range(len(word) + 1)]\n",
    "    deletes = [L + R[1:] for L, R in splits if R]\n",
    "    transposes = [L + R[1] + R[0] + R[2:] for L, R in splits if len(R) > 1]\n",
    "    replaces = [L + c + R[1:] for L, R in splits if R for c in letters]\n",
    "    inserts = [L + c + R for L, R in splits for c in letters]\n",
    "    return set(deletes + transposes + replaces + inserts)\n",
    "\n",
    "\n",
    "def edits2(word):\n",
    "    \"All edits that are two edits away from `word`.\"\n",
    "    return (e2 for e1 in edits1(word) for e2 in edits1(e1))\n"
   ]
  },
  {
   "cell_type": "code",
   "execution_count": 64,
   "metadata": {},
   "outputs": [],
   "source": [
    "X = []\n",
    "Y = []\n",
    "for t, tup in enumerate(WORDS.most_common()):\n",
    "    X.append(t+1)\n",
    "    Y.append(tup[1])"
   ]
  },
  {
   "cell_type": "code",
   "execution_count": 65,
   "metadata": {},
   "outputs": [
    {
     "data": {
      "image/png": "[encoded data removed]",
      "text/plain": [
       "<matplotlib.figure.Figure at 0x7f2b0b385b70>"
      ]
     },
     "metadata": {},
     "output_type": "display_data"
    }
   ],
   "source": [
    "plt.figure(figsize=(18,10))\n",
    "plt.loglog(X, Y)\n",
    "plt.xlabel('Pozycja na liście')\n",
    "plt.ylabel('Liczba wystapień')\n",
    "plt.grid(True)\n",
    "plt.show()"
   ]
  },
  {
   "cell_type": "code",
   "execution_count": 66,
   "metadata": {},
   "outputs": [
    {
     "name": "stdout",
     "output_type": "stream",
     "text": [
      "[('na', 2824896),\n",
      " ('do', 2321623),\n",
      " ('nie', 2010295),\n",
      " ('że', 1552500),\n",
      " ('art', 1365815),\n",
      " ('się', 1208438),\n",
      " ('przez', 1170894),\n",
      " ('dnia', 1089303),\n",
      " ('od', 1021377),\n",
      " ('sąd', 963906)]\n"
     ]
    }
   ],
   "source": [
    "dic = set()\n",
    "# with ZipFile('polimorfologik-2.1.zip') as zips:\n",
    "#     with zips.open(\"polimorfologik-2.1.txt\", \"r\") as txt:\n",
    "#         for line in txt:\n",
    "#             first, second, _ = line.decode(\"utf-8\").split(';')\n",
    "\n",
    "#             dic.add(first.lower())\n",
    "#             dic.add(second.lower())\n",
    "# with open(\"dictFile\", \"wb\") as f:\n",
    "#     pickle.dump(dic, f)\n",
    "with open(\"dictFile\", \"rb\") as f:\n",
    "    dic = set(pickle.load(f))\n",
    "pprint(WORDS.most_common(10))"
   ]
  },
  {
   "cell_type": "code",
   "execution_count": 67,
   "metadata": {},
   "outputs": [
    {
     "name": "stdout",
     "output_type": "stream",
     "text": [
      "66726\n"
     ]
    }
   ],
   "source": [
    "new_set = tuple(set(WORDS) - dic)\n",
    "pprint(len(new_set))"
   ]
  },
  {
   "cell_type": "code",
   "execution_count": 68,
   "metadata": {},
   "outputs": [
    {
     "name": "stdout",
     "output_type": "stream",
     "text": [
      "('hydrochloride',\n",
      " 'przeznczone',\n",
      " 'zbąszyniak',\n",
      " 'califomi',\n",
      " 'wrazz',\n",
      " 'ibmlenovo',\n",
      " 'spfere',\n",
      " 'pbe',\n",
      " 'czteroprzewodowa',\n",
      " 'zminusowane',\n",
      " 'odkosztów',\n",
      " 'punkci',\n",
      " 'gojżewski',\n",
      " 'latitude',\n",
      " 'wiązującą',\n",
      " 'goprówki',\n",
      " 'sipp',\n",
      " 'miąskiewicz',\n",
      " 'owanego',\n",
      " 'fitotronowych',\n",
      " 'dystrybującym',\n",
      " 'socialny',\n",
      " 'opomiarowanej',\n",
      " 'gazeci',\n",
      " 'zuberta',\n",
      " 'cieśnia',\n",
      " 'ssw',\n",
      " 'tuleji',\n",
      " 'valable',\n",
      " 'zazakańczanie')\n"
     ]
    }
   ],
   "source": [
    "pprint(new_set[:30])"
   ]
  },
  {
   "cell_type": "code",
   "execution_count": 69,
   "metadata": {},
   "outputs": [
    {
     "name": "stdout",
     "output_type": "stream",
     "text": [
      "'hydrochloride: hydrochorie'\n",
      "'przeznczone: przeznaczone'\n",
      "'zbąszyniak: zbąszynia'\n",
      "'califomi: calikom'\n",
      "'wrazz: wraz'\n",
      "'ibmlenovo: ibmlenovo'\n",
      "'spfere: sferze'\n",
      "'pbe: pe'\n",
      "'czteroprzewodowa: czteroprzewodowa'\n",
      "'zminusowane: zmiksowane'\n",
      "'odkosztów: kosztów'\n",
      "'punkci: punkcie'\n",
      "'gojżewski: godlewski'\n",
      "'latitude: attitude'\n",
      "'wiązującą: wizującą'\n",
      "'goprówki: gotówki'\n",
      "'sipp: spp'\n",
      "'miąskiewicz: miskiewicz'\n",
      "'owanego: zwanego'\n",
      "'fitotronowych: fototropowych'\n",
      "'dystrybującym: dystrybuującym'\n",
      "'socialny: socjalny'\n",
      "'opomiarowanej: pomianowanej'\n",
      "'gazeci: gazecie'\n",
      "'zuberta: huberta'\n",
      "'cieśnia: cienia'\n",
      "'ssw: msw'\n",
      "'tuleji: tuleja'\n",
      "'valable: kalabie'\n",
      "'zazakańczanie: zakańczanie'\n"
     ]
    }
   ],
   "source": [
    "for word in new_set[:30]:\n",
    "    pprint(word + \": \" + correction(word))"
   ]
  },
  {
   "cell_type": "code",
   "execution_count": 70,
   "metadata": {},
   "outputs": [
    {
     "name": "stdout",
     "output_type": "stream",
     "text": [
      "'sygn: syn'\n",
      "'zw: za'\n",
      "'lex: lek'\n",
      "'iv: iż'\n",
      "'pzp: pip'\n",
      "'sso: so'\n",
      "'siwz: siwy'\n",
      "'kpk: kk'\n",
      "'sa: na'\n",
      "'csk: ck'\n",
      "'vi: ii'\n",
      "'ssa: psa'\n",
      "'aca: ca'\n",
      "'ckn: cen'\n",
      "'viii: iii'\n",
      "'ssr: spr'\n",
      "'vii: ii'\n",
      "'uk: kk'\n",
      "'osnc: on'\n",
      "'czp: czy'\n",
      "'sekr: sek'\n",
      "'aua: aka'\n",
      "'osnp: osp'\n",
      "'ix: iż'\n",
      "'późn: późno'\n",
      "'zd: od'\n",
      "'meriti: merita'\n",
      "'ns: na'\n",
      "'gc: go'\n",
      "'zb: za'\n"
     ]
    }
   ],
   "source": [
    "new_count = Counter()\n",
    "for inits in new_set:\n",
    "    if WORDS[inits] > 0:\n",
    "        new_count[inits] = WORDS[inits]\n",
    "for word in new_count.most_common()[:30]:\n",
    "    pprint(word[0] + \": \" + correction(word[0]))"
   ]
  },
  {
   "cell_type": "code",
   "execution_count": 71,
   "metadata": {},
   "outputs": [
    {
     "name": "stdout",
     "output_type": "stream",
     "text": [
      "'Procent błednych słów: 1.3508894066937491'\n"
     ]
    }
   ],
   "source": [
    "pprint(\"Procent błednych słów: {}\".format(sum(new_count.values())/sum(WORDS.values())*100))"
   ]
  },
  {
   "cell_type": "code",
   "execution_count": 72,
   "metadata": {},
   "outputs": [
    {
     "name": "stdout",
     "output_type": "stream",
     "text": [
      "'Procent błednych słów bez brania pod uwagę ilości wystąpeń: 19.894395067396935'\n"
     ]
    }
   ],
   "source": [
    "pprint(\"Procent błednych słów bez brania pod uwagę ilości wystąpeń: {}\".format(len(new_count.keys())/len(WORDS.keys())*100))"
   ]
  },
  {
   "cell_type": "code",
   "execution_count": null,
   "metadata": {},
   "outputs": [],
   "source": []
  }
 ],
 "metadata": {
  "kernelspec": {
   "display_name": "Python 3",
   "language": "python",
   "name": "python3"
  },
  "language_info": {
   "codemirror_mode": {
    "name": "ipython",
    "version": 3
   },
   "file_extension": ".py",
   "mimetype": "text/x-python",
   "name": "python",
   "nbconvert_exporter": "python",
   "pygments_lexer": "ipython3",
   "version": "3.6.4"
  }
 },
 "nbformat": 4,
 "nbformat_minor": 1
}
