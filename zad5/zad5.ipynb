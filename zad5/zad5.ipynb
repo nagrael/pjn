{
 "cells": [
  {
   "cell_type": "code",
   "execution_count": 1,
   "metadata": {},
   "outputs": [],
   "source": [
    "import itertools\n",
    "import json\n",
    "import os\n",
    "import pickle\n",
    "import re\n",
    "import string\n",
    "import tarfile\n",
    "from collections import Counter, defaultdict\n",
    "from datetime import datetime\n",
    "from pprint import pprint\n",
    "import requests\n",
    "from math import log2"
   ]
  },
  {
   "cell_type": "code",
   "execution_count": null,
   "metadata": {},
   "outputs": [],
   "source": [
    "res1 = r\"(<[^>]*>)\"\n",
    "res2 = r\"((-|‒)(\\n|\\r|\\r\\n|\\x0b|\\x0c|\\x1c|\\x1d|\\x1e|\\x85|\\u2028|\\u2029))\"\n",
    "res3 = r\"^[a-ząćęłńóśźż]+$\"\n",
    "com1 = re.compile(res1, re.IGNORECASE)\n",
    "com2 = re.compile(res2, re.IGNORECASE)\n",
    "pairs1 = re.compile(res3, re.IGNORECASE)\n",
    "\n",
    "tar = tarfile.open(\"../saos-dump-23.02.2018.tar.gz\", \"r:gz\",)"
   ]
  },
  {
   "cell_type": "code",
   "execution_count": null,
   "metadata": {},
   "outputs": [],
   "source": [
    "def get_next(tars):\n",
    "    index = 1\n",
    "    for tarinfo in tars:\n",
    "        if tarinfo.isreg():\n",
    "            if tarinfo.name.startswith('data/json/judgments'):\n",
    "                pprint(str(index) + \": \" + tarinfo.name)\n",
    "                index += 1\n",
    "                yield json.load(tars.extractfile(tarinfo)), tarinfo.name[10:]\n",
    "\n",
    "\n",
    "def given_date(date):\n",
    "    z = datetime.strptime(date, '%Y-%m-%d')\n",
    "    return z.year == 2015\n",
    "\n",
    "\n",
    "def get_pairs(itera):\n",
    "    first = next(itera)\n",
    "    for word in itera:\n",
    "        yield from itertools.product(first, word)\n",
    "        first = word\n",
    "\n",
    "\n",
    "def modifi_pairs(ret):\n",
    "    tmp = []\n",
    "    for t in filter(lambda y: len(y) > 0, ret.content.decode().split(\"\\n\")):\n",
    "        if t.startswith(\"\\t\"):\n",
    "            r = t.strip().split(\"\\t\")\n",
    "            if pairs1.match(r[0]):\n",
    "                tmp.append(r[0]+\":\"+r[1].split(\":\")[0])\n",
    "        else:\n",
    "            if len(tmp) > 0:\n",
    "                yield tmp\n",
    "                tmp = []"
   ]
  },
  {
   "cell_type": "code",
   "execution_count": null,
   "metadata": {},
   "outputs": [],
   "source": [
    "def give_me(fun):\n",
    "    for x, name in get_next(tar):\n",
    "        for y in x['items']:\n",
    "            try:\n",
    "                if given_date(y['judgmentDate']):\n",
    "                    words = pairs1.sub(\"\", com2.sub(\"\", com1.sub(\"\", y['textContent'])))\\\n",
    "                        .translate(str.maketrans(\"\", \"\", \"§‰‒⚫®÷€●£±\" + string.punctuation))\n",
    "                    ret = requests.post(\"http://0.0.0.0:9200\", data=words.encode())\n",
    "                    if ret.status_code == 200:\n",
    "                        path = os.path.join(\"done\", name[:-5] + \":\" + str(y[\"id\"]))\n",
    "                        with open(path, \"w\") as f:\n",
    "                            for d in fun(modifi_pairs(ret)):\n",
    "                                f.write(str(d))\n",
    "                                yield d\n",
    "                    else:\n",
    "                        print(ret.content.decode())\n",
    "            except KeyError:\n",
    "\n",
    "                pprint(KeyError)\n",
    "\n",
    "\n",
    "# two_word = Counter(give_me(get_pairs))\n",
    "# with open(\"two_words\", \"wb\") as f:\n",
    "#     pickle.dump(two_word, f)"
   ]
  },
  {
   "cell_type": "code",
   "execution_count": null,
   "metadata": {},
   "outputs": [],
   "source": [
    "def entropy(*args):\n",
    "    tmp = sum(args)\n",
    "    return sum((k * log2(k / tmp + int(k == 0)) for k in args))\n",
    "\n",
    "\n",
    "def calculate_g2(two_dict: Counter):\n",
    "    total = sum(two_dict.values())\n",
    "    table = defaultdict(lambda: Counter())\n",
    "    table_reverse = defaultdict(lambda: Counter())\n",
    "    for pair in two_dict:\n",
    "        table[pair[0]][pair[1]] = two_dict[pair]\n",
    "        table_reverse[pair[1]][pair[0]] = two_dict[pair]\n",
    "    for fst, sec in two_dict:\n",
    "        k11 = table[fst][sec]\n",
    "        k21 = sum(table[fst].values()) - k11\n",
    "        k12 = sum(table_reverse[sec].values()) - k11\n",
    "        k22 = total - k21 - k12 - k11\n",
    "        yield ((fst, sec, 2 * (entropy(k11, k12, k21, k22) - entropy(k11 + k12, k21 + k22)\n",
    "                                - entropy(k11 + k21, k12 + k22)))"
   ]
  },
  {
   "cell_type": "code",
   "execution_count": 2,
   "metadata": {},
   "outputs": [],
   "source": [
    "# with open(\"two_words_lower\", \"wb\") as f:\n",
    "#     two_word = Counter(give_me(get_pairs))\n",
    "#     pickle.dumb(two_words, f)\n",
    "\n",
    "# with open(\"two_words_lower\", \"rb\") as f:\n",
    "#     two_word = Counter(pickle.load(f))\n",
    "    \n",
    "# result_g2 = Counter(dict(calculate_g2(two_word)))\n",
    "# with open(\"g2_result\", \"wb\") as f:\n",
    "#     pickle.dump(result_g2, f)\n",
    "\n",
    "with open(\"g2_result\", \"rb\") as f:\n",
    "    result_g2 = Counter(pickle.load(f))"
   ]
  },
  {
   "cell_type": "code",
   "execution_count": 3,
   "metadata": {},
   "outputs": [
    {
     "name": "stdout",
     "output_type": "stream",
     "text": [
      "[(('z:prep', 'dzień:subst'), 4587521.763124168),\n",
      " (('kwota:subst', 'złoty:brev'), 3848757.47851724),\n",
      " (('sąd:subst', 'okręgowy:adj'), 3537427.676854592),\n",
      " (('sąd:subst', 'rejonowy:adj'), 3081445.4619805515),\n",
      " (('art:brev', 'kk:brev'), 2436834.728546394),\n",
      " (('sygn:subst', 'akt:subst'), 2410002.54784516),\n",
      " (('na:prep', 'podstawa:subst'), 2380268.662492305),\n",
      " (('ubezpieczenie:subst', 'społeczny:adj'), 2281565.849403266),\n",
      " (('skarb:subst', 'państwo:subst'), 2049853.7099823956),\n",
      " (('zgodnie:adv', 'z:prep'), 1991863.942045264),\n",
      " (('na:prep', 'rzecz:subst'), 1896368.3346092254),\n",
      " (('art:brev', 'usta:subst'), 1865540.3137207292),\n",
      " (('materiał:subst', 'dowodowy:adj'), 1770403.4192103255),\n",
      " (('co:comp', 'do:prep'), 1603840.103305568),\n",
      " (('zw:brev', 'z:prep'), 1539189.9207633357),\n",
      " (('z:prep', 'art:brev'), 1520207.7367877886),\n",
      " (('zeznanie:subst', 'świadek:subst'), 1507013.9391400935),\n",
      " (('i:adj', 'instancja:subst'), 1464106.8560040481),\n",
      " (('sąd:subst', 'wysoki:adj'), 1435565.2406496778),\n",
      " (('organ:subst', 'rentowy:adj'), 1432430.0995914172),\n",
      " (('art:subst', 'kc:subst'), 1349819.509069791),\n",
      " (('związek:subst', 'z:prep'), 1313826.2749057747),\n",
      " (('w:prep', 'zw:brev'), 1310174.5389582813),\n",
      " (('w:prep', 'sprawa:subst'), 1276249.6633124799),\n",
      " (('niniejszy:adj', 'sprawa:subst'), 1253670.867540257),\n",
      " (('dzień:subst', 'grudzień:subst'), 1196323.1062961742),\n",
      " (('sąd:subst', 'apelacyjny:adj'), 1158030.744022239),\n",
      " (('podstawa:subst', 'art:brev'), 1150621.703824725),\n",
      " (('dzień:subst', 'wrzesień:subst'), 1130037.8991782926),\n",
      " (('numer:brev', 'poz:brev'), 1128414.3905081227)]\n"
     ]
    }
   ],
   "source": [
    "pprint(result_g2.most_common(30))"
   ]
  },
  {
   "cell_type": "code",
   "execution_count": 4,
   "metadata": {},
   "outputs": [
    {
     "name": "stdout",
     "output_type": "stream",
     "text": [
      "[(('sąd:subst', 'okręgowy:adj'), 3537427.676854592),\n",
      " (('sąd:subst', 'rejonowy:adj'), 3081445.4619805515),\n",
      " (('sygn:subst', 'akt:subst'), 2410002.54784516),\n",
      " (('ubezpieczenie:subst', 'społeczny:adj'), 2281565.849403266),\n",
      " (('skarb:subst', 'państwo:subst'), 2049853.7099823956),\n",
      " (('materiał:subst', 'dowodowy:adj'), 1770403.4192103255),\n",
      " (('zeznanie:subst', 'świadek:subst'), 1507013.9391400935),\n",
      " (('sąd:subst', 'wysoki:adj'), 1435565.2406496778),\n",
      " (('organ:subst', 'rentowy:adj'), 1432430.0995914172),\n",
      " (('art:subst', 'kc:subst'), 1349819.509069791),\n",
      " (('dzień:subst', 'grudzień:subst'), 1196323.1062961742),\n",
      " (('sąd:subst', 'apelacyjny:adj'), 1158030.744022239),\n",
      " (('dzień:subst', 'wrzesień:subst'), 1130037.8991782926),\n",
      " (('koszt:subst', 'proces:subst'), 1079136.9341652086),\n",
      " (('rzeczpospolita:subst', 'polski:adj'), 1069153.3114124008),\n",
      " (('dzień:subst', 'październik:subst'), 1069130.8697118834),\n",
      " (('dzień:subst', 'styczeń:subst'), 1068113.101466693),\n",
      " (('dzień:subst', 'czerwiec:subst'), 1062162.331734009),\n",
      " (('stan:subst', 'faktyczny:adj'), 1061531.311070905),\n",
      " (('dzień:subst', 'marzec:subst'), 1040486.1699557863),\n",
      " (('dzień:subst', 'lipiec:subst'), 1016431.5165067166),\n",
      " (('dzień:subst', 'luty:subst'), 1011994.4739672802),\n",
      " (('dzień:subst', 'maj:subst'), 990732.8225905783),\n",
      " (('usta:subst', 'ustawa:subst'), 986411.4716710392),\n",
      " (('działalność:subst', 'gospodarczy:adj'), 983896.4953607866),\n",
      " (('dzień:subst', 'kwiecień:subst'), 962559.5265499689),\n",
      " (('dzień:subst', 'listopad:subst'), 939293.6115768626),\n",
      " (('ustalenie:subst', 'faktyczny:adj'), 902608.4610643736),\n",
      " (('wyrok:subst', 'sąd:subst'), 892195.5924462788),\n",
      " (('zastępstwo:subst', 'procesowy:adj'), 845863.1719329264)]\n"
     ]
    }
   ],
   "source": [
    "pprint(list(itertools.islice(filter(lambda x: x[0][0][x[0][0].find(\":\") + 1:] == \"subst\" and\n",
    "                                              (x[0][1][x[0][1].find(\":\") + 1:] == \"subst\" or\n",
    "                                               x[0][1][x[0][1].find(\":\") + 1:].startwith(\"adj\"),\n",
    "                                    result_g2.most_common()), 0, 30)))"
   ]
  },
  {
   "cell_type": "code",
   "execution_count": null,
   "metadata": {},
   "outputs": [],
   "source": []
  }
 ],
 "metadata": {
  "kernelspec": {
   "display_name": "Python 3",
   "language": "python",
   "name": "python3"
  },
  "language_info": {
   "codemirror_mode": {
    "name": "ipython",
    "version": 3
   },
   "file_extension": ".py",
   "mimetype": "text/x-python",
   "name": "python",
   "nbconvert_exporter": "python",
   "pygments_lexer": "ipython3",
   "version": "3.6.4"
  }
 },
 "nbformat": 4,
 "nbformat_minor": 2
}
